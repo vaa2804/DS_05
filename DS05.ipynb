{
 "cells": [
  {
   "cell_type": "code",
   "execution_count": 1,
   "id": "8a8629b8",
   "metadata": {},
   "outputs": [],
   "source": [
    "from sympy import *\n",
    "x ,y, z = symbols (\"x y z\")"
   ]
  },
  {
   "cell_type": "code",
   "execution_count": 2,
   "id": "99b0b863",
   "metadata": {},
   "outputs": [
    {
     "data": {
      "text/latex": [
       "$\\displaystyle 2 x - 1$"
      ],
      "text/plain": [
       "2*x - 1"
      ]
     },
     "execution_count": 2,
     "metadata": {},
     "output_type": "execute_result"
    }
   ],
   "source": [
    "f=x**2-x-21\n",
    "diff(f,x)"
   ]
  },
  {
   "cell_type": "code",
   "execution_count": 3,
   "id": "638d51f2",
   "metadata": {},
   "outputs": [
    {
     "data": {
      "text/latex": [
       "$\\displaystyle 2 x - 2 y$"
      ],
      "text/plain": [
       "2*x - 2*y"
      ]
     },
     "execution_count": 3,
     "metadata": {},
     "output_type": "execute_result"
    }
   ],
   "source": [
    "p=(x-y)**2\n",
    "diff(p,x)"
   ]
  },
  {
   "cell_type": "code",
   "execution_count": 12,
   "id": "b44b80d8",
   "metadata": {},
   "outputs": [
    {
     "data": {
      "text/latex": [
       "$\\displaystyle - \\frac{2 x \\left(- b - w x + y_{true}\\right)}{n}$"
      ],
      "text/plain": [
       "-2*x*(-b - w*x + y_true)/n"
      ]
     },
     "execution_count": 12,
     "metadata": {},
     "output_type": "execute_result"
    }
   ],
   "source": [
    "w, b, y_true, n= symbols (\"w b y_true n\")\n",
    "y_pred=w*x +b\n",
    "diff (((y_true-y_pred)**2)/n,w )\n",
    "#diff (e, w, b)"
   ]
  },
  {
   "cell_type": "code",
   "execution_count": 13,
   "id": "3f2cce82",
   "metadata": {},
   "outputs": [],
   "source": [
    "def part_diff(e) :\n",
    "    return diff (e, w), diff (e,b )"
   ]
  },
  {
   "cell_type": "code",
   "execution_count": 15,
   "id": "f510eda3",
   "metadata": {},
   "outputs": [
    {
     "name": "stdout",
     "output_type": "stream",
     "text": [
      "-2*x*(-b - w*x + y_true)/n (2*b + 2*w*x - 2*y_true)/n\n"
     ]
    }
   ],
   "source": [
    "e= ((y_true-y_pred)**2)/n\n",
    "dw,db = part_diff(e)\n",
    "print (dw , db)"
   ]
  },
  {
   "cell_type": "code",
   "execution_count": 28,
   "id": "396019bd",
   "metadata": {},
   "outputs": [],
   "source": [
    "import numpy as np\n",
    "\n",
    "class Gradient:\n",
    "    def __init__(self, X, Y) :\n",
    "        self.X= X\n",
    "        self.Y= Y\n",
    "        \n",
    "    def predict (self, w, b) :\n",
    "        return self.X*w +b\n",
    "    \n",
    "    def mse (self, Y_pred) :\n",
    "        MSE = np.square(np.subtract(self.Y, Y_pred)).mean()\n",
    "        return MSE\n",
    "    "
   ]
  },
  {
   "cell_type": "code",
   "execution_count": 36,
   "id": "9b5c8849",
   "metadata": {},
   "outputs": [
    {
     "name": "stdout",
     "output_type": "stream",
     "text": [
      "[0 1 2 3 4 5 6 7 8 9]\n",
      "[ 0  2  4  6  8 10 12 14 16 18]\n",
      "[ 1  3  5  7  9 11 13 15 17 19]\n",
      "1.0\n"
     ]
    }
   ],
   "source": [
    "X= np.arange ( 10)\n",
    "Y= np.arange (0, 20,2)\n",
    "print (X)\n",
    "print (Y)\n",
    "grad=Gradient (X,Y)\n",
    "y_pred=grad.predict(2,1)\n",
    "print (y_pred)\n",
    "ms=grad.mse(y_pred)\n",
    "print (ms)"
   ]
  },
  {
   "cell_type": "code",
   "execution_count": null,
   "id": "4fcb2db5",
   "metadata": {},
   "outputs": [],
   "source": []
  }
 ],
 "metadata": {
  "kernelspec": {
   "display_name": "Python 3",
   "language": "python",
   "name": "python3"
  },
  "language_info": {
   "codemirror_mode": {
    "name": "ipython",
    "version": 3
   },
   "file_extension": ".py",
   "mimetype": "text/x-python",
   "name": "python",
   "nbconvert_exporter": "python",
   "pygments_lexer": "ipython3",
   "version": "3.8.8"
  }
 },
 "nbformat": 4,
 "nbformat_minor": 5
}
